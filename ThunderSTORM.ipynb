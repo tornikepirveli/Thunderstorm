{
 "cells": [
  {
   "cell_type": "markdown",
   "id": "0fb77ce4",
   "metadata": {},
   "source": [
    "<h1>Setting up environment for image analysis</h1>"
   ]
  },
  {
   "cell_type": "code",
   "execution_count": 1,
   "id": "ca5febd0",
   "metadata": {},
   "outputs": [
    {
     "name": "stdout",
     "output_type": "stream",
     "text": [
      "10923 MB (11453 MiB) available: 88% of requested\n",
      "1.8.0_312\n",
      "2.9.0/1.53t\n"
     ]
    }
   ],
   "source": [
    "from scyjava import config, jimport\n",
    "import imagej\n",
    "\n",
    "# Set the JVM memory size.\n",
    "gb = 12\n",
    "config.add_option(f\"-Xmx{gb}g\")\n",
    "\n",
    "# Initialize ImageJ2 and the JVM, wrapping local Fiji installation.\n",
    "ij = imagej.init('C:/Users/Quantori/Desktop/Quantori/Thunderstorm/Fiji.app', mode='interactive')\n",
    "\n",
    "# Print out memory statistics.\n",
    "Runtime = jimport(\"java.lang.Runtime\")\n",
    "maxmem = Runtime.getRuntime().maxMemory()\n",
    "mb = maxmem // (2**20)\n",
    "mib = maxmem // (10**6)\n",
    "percent = 100 * mb // (1024 * gb)\n",
    "print(f\"{mb} MB ({mib} MiB) available: {percent}% of requested\")\n",
    "\n",
    "# Print out Java version.\n",
    "System = jimport(\"java.lang.System\")\n",
    "print(str(System.getProperty(\"java.version\"))) \n",
    "\n",
    "# Print out ImageJ2 version.\n",
    "print(ij.getVersion())"
   ]
  },
  {
   "cell_type": "markdown",
   "id": "edfd9ba4",
   "metadata": {},
   "source": [
    "<h2>Load data in your local Fiji folder</h2>"
   ]
  },
  {
   "cell_type": "code",
   "execution_count": 2,
   "id": "8b2e9ed6",
   "metadata": {},
   "outputs": [
    {
     "data": {
      "text/plain": [
       "(515, 703, 10000)"
      ]
     },
     "execution_count": 2,
     "metadata": {},
     "output_type": "execute_result"
    }
   ],
   "source": [
    "imp1 = ij.IJ.openImage(\"YFP_data_1.tif\")\n",
    "imp1.shape"
   ]
  },
  {
   "cell_type": "code",
   "execution_count": 3,
   "id": "02f5cac4",
   "metadata": {},
   "outputs": [],
   "source": [
    "def run_analysis(data,number:int):\n",
    "    # Convert data into imageplus object if necessary\n",
    "    #data = ij.py.to_imageplus(data)\n",
    "    result = ij.IJ.run(data, \"Run analysis\", \"filter=[Wavelet filter (B-Spline)] scale=2.0 order=3 detector=[Local maximum] connectivity=8-neighbourhood threshold=std(Wave.F1) estimator=[PSF: Integrated Gaussian] sigma=1.6 fitradius=3 method=[Weighted Least squares] full_image_fitting=false mfaenabled=false renderer=[Averaged shifted histograms] magnification=5.0 colorizez=false threed=false shifts=2 repaint=50\")\n",
    "    #Specify path to filepath\n",
    "    R = ij.IJ.run(\"Export results\", f'floatprecision=5 filepath=C:/Users/Quantori/Desktop/Quantori/Thunderstorm/Tutorial/Thunderstorm/Results/results{number}.csv fileformat=[CSV (comma separated)] sigma=true intensity=true chi2=true offset=true saveprotocol=true x=true y=true bkgstd=true id=false uncertainty_xy=true frame=true')\n",
    "    ij.IJ.selectWindow(\"Averaged shifted histograms\")\n",
    "    #Specify path\n",
    "    ij.IJ.saveAs(\"PNG\", f'C:/Users/Quantori/Desktop/Quantori/Thunderstorm/Tutorial/Thunderstorm/Results/image{number}.png')"
   ]
  },
  {
   "cell_type": "code",
   "execution_count": null,
   "id": "e4aaa9da",
   "metadata": {},
   "outputs": [],
   "source": [
    "run_analysis(imp1,1)"
   ]
  },
  {
   "cell_type": "code",
   "execution_count": null,
   "id": "9e2ea166",
   "metadata": {
    "scrolled": true
   },
   "outputs": [],
   "source": [
    "ij.IJ.freeMemory()"
   ]
  },
  {
   "cell_type": "code",
   "execution_count": null,
   "id": "d1b27bc5",
   "metadata": {},
   "outputs": [],
   "source": []
  }
 ],
 "metadata": {
  "kernelspec": {
   "display_name": "Python 3 (ipykernel)",
   "language": "python",
   "name": "python3"
  },
  "language_info": {
   "codemirror_mode": {
    "name": "ipython",
    "version": 3
   },
   "file_extension": ".py",
   "mimetype": "text/x-python",
   "name": "python",
   "nbconvert_exporter": "python",
   "pygments_lexer": "ipython3",
   "version": "3.8.13"
  },
  "toc": {
   "base_numbering": 1,
   "nav_menu": {},
   "number_sections": true,
   "sideBar": true,
   "skip_h1_title": true,
   "title_cell": "Table of Contents",
   "title_sidebar": "Contents",
   "toc_cell": false,
   "toc_position": {
    "height": "calc(100% - 180px)",
    "left": "10px",
    "top": "150px",
    "width": "211px"
   },
   "toc_section_display": true,
   "toc_window_display": true
  }
 },
 "nbformat": 4,
 "nbformat_minor": 5
}
